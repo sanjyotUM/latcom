{
 "cells": [
  {
   "cell_type": "markdown",
   "metadata": {},
   "source": [
    "## Import"
   ]
  },
  {
   "cell_type": "code",
   "execution_count": 1,
   "metadata": {},
   "outputs": [],
   "source": [
    "from pathlib import Path\n",
    "from datetime import datetime, timedelta\n",
    "\n",
    "import pandas as pd"
   ]
  },
  {
   "cell_type": "code",
   "execution_count": 2,
   "metadata": {},
   "outputs": [
    {
     "name": "stdout",
     "output_type": "stream",
     "text": [
      "/home/sanjyot/latcom\n"
     ]
    }
   ],
   "source": [
    "cd /home/sanjyot/latcom"
   ]
  },
  {
   "cell_type": "code",
   "execution_count": 3,
   "metadata": {},
   "outputs": [],
   "source": [
    "from preprocess import truncate_filenames, extract_datetime"
   ]
  },
  {
   "cell_type": "code",
   "execution_count": 4,
   "metadata": {},
   "outputs": [],
   "source": [
    "%load_ext autoreload\n",
    "%autoreload 2"
   ]
  },
  {
   "cell_type": "code",
   "execution_count": 5,
   "metadata": {},
   "outputs": [],
   "source": [
    "data_dir = Path('.').resolve() / 'dataset' / 'udacity_simulator' / 'tracks'\n",
    "label_path = data_dir / 'driving_log.csv'"
   ]
  },
  {
   "cell_type": "code",
   "execution_count": 7,
   "metadata": {},
   "outputs": [],
   "source": [
    "lbl = (\n",
    "    pd.read_csv(\n",
    "        label_path, \n",
    "        names=['center', 'left', 'right', 'steering', 'throttle', 'reverse', 'speed']\n",
    "    )\n",
    "    .pipe(truncate_filenames)\n",
    "    .assign(datetime = lambda x: x['center'].apply(extract_datetime))\n",
    ")"
   ]
  },
  {
   "cell_type": "code",
   "execution_count": 8,
   "metadata": {},
   "outputs": [
    {
     "data": {
      "text/html": [
       "<div>\n",
       "<style scoped>\n",
       "    .dataframe tbody tr th:only-of-type {\n",
       "        vertical-align: middle;\n",
       "    }\n",
       "\n",
       "    .dataframe tbody tr th {\n",
       "        vertical-align: top;\n",
       "    }\n",
       "\n",
       "    .dataframe thead th {\n",
       "        text-align: right;\n",
       "    }\n",
       "</style>\n",
       "<table border=\"1\" class=\"dataframe\">\n",
       "  <thead>\n",
       "    <tr style=\"text-align: right;\">\n",
       "      <th></th>\n",
       "      <th>center</th>\n",
       "      <th>left</th>\n",
       "      <th>right</th>\n",
       "      <th>steering</th>\n",
       "      <th>throttle</th>\n",
       "      <th>reverse</th>\n",
       "      <th>speed</th>\n",
       "      <th>datetime</th>\n",
       "    </tr>\n",
       "  </thead>\n",
       "  <tbody>\n",
       "    <tr>\n",
       "      <th>0</th>\n",
       "      <td>center_2019_04_02_19_25_33_671.jpg</td>\n",
       "      <td>left_2019_04_02_19_25_33_671.jpg</td>\n",
       "      <td>right_2019_04_02_19_25_33_671.jpg</td>\n",
       "      <td>0.0</td>\n",
       "      <td>0.000000</td>\n",
       "      <td>0.0</td>\n",
       "      <td>0.000011</td>\n",
       "      <td>2019-04-02 19:25:33.000671</td>\n",
       "    </tr>\n",
       "    <tr>\n",
       "      <th>1</th>\n",
       "      <td>center_2019_04_02_19_25_33_743.jpg</td>\n",
       "      <td>left_2019_04_02_19_25_33_743.jpg</td>\n",
       "      <td>right_2019_04_02_19_25_33_743.jpg</td>\n",
       "      <td>0.0</td>\n",
       "      <td>0.000000</td>\n",
       "      <td>0.0</td>\n",
       "      <td>0.000007</td>\n",
       "      <td>2019-04-02 19:25:33.000743</td>\n",
       "    </tr>\n",
       "    <tr>\n",
       "      <th>2</th>\n",
       "      <td>center_2019_04_02_19_25_33_816.jpg</td>\n",
       "      <td>left_2019_04_02_19_25_33_816.jpg</td>\n",
       "      <td>right_2019_04_02_19_25_33_816.jpg</td>\n",
       "      <td>0.0</td>\n",
       "      <td>0.000000</td>\n",
       "      <td>0.0</td>\n",
       "      <td>0.000003</td>\n",
       "      <td>2019-04-02 19:25:33.000816</td>\n",
       "    </tr>\n",
       "    <tr>\n",
       "      <th>3</th>\n",
       "      <td>center_2019_04_02_19_25_33_887.jpg</td>\n",
       "      <td>left_2019_04_02_19_25_33_887.jpg</td>\n",
       "      <td>right_2019_04_02_19_25_33_887.jpg</td>\n",
       "      <td>0.0</td>\n",
       "      <td>0.048016</td>\n",
       "      <td>0.0</td>\n",
       "      <td>0.002267</td>\n",
       "      <td>2019-04-02 19:25:33.000887</td>\n",
       "    </tr>\n",
       "    <tr>\n",
       "      <th>4</th>\n",
       "      <td>center_2019_04_02_19_25_33_959.jpg</td>\n",
       "      <td>left_2019_04_02_19_25_33_959.jpg</td>\n",
       "      <td>right_2019_04_02_19_25_33_959.jpg</td>\n",
       "      <td>0.0</td>\n",
       "      <td>0.281203</td>\n",
       "      <td>0.0</td>\n",
       "      <td>0.175589</td>\n",
       "      <td>2019-04-02 19:25:33.000959</td>\n",
       "    </tr>\n",
       "  </tbody>\n",
       "</table>\n",
       "</div>"
      ],
      "text/plain": [
       "                               center                              left  \\\n",
       "0  center_2019_04_02_19_25_33_671.jpg  left_2019_04_02_19_25_33_671.jpg   \n",
       "1  center_2019_04_02_19_25_33_743.jpg  left_2019_04_02_19_25_33_743.jpg   \n",
       "2  center_2019_04_02_19_25_33_816.jpg  left_2019_04_02_19_25_33_816.jpg   \n",
       "3  center_2019_04_02_19_25_33_887.jpg  left_2019_04_02_19_25_33_887.jpg   \n",
       "4  center_2019_04_02_19_25_33_959.jpg  left_2019_04_02_19_25_33_959.jpg   \n",
       "\n",
       "                               right  steering  throttle  reverse     speed  \\\n",
       "0  right_2019_04_02_19_25_33_671.jpg       0.0  0.000000      0.0  0.000011   \n",
       "1  right_2019_04_02_19_25_33_743.jpg       0.0  0.000000      0.0  0.000007   \n",
       "2  right_2019_04_02_19_25_33_816.jpg       0.0  0.000000      0.0  0.000003   \n",
       "3  right_2019_04_02_19_25_33_887.jpg       0.0  0.048016      0.0  0.002267   \n",
       "4  right_2019_04_02_19_25_33_959.jpg       0.0  0.281203      0.0  0.175589   \n",
       "\n",
       "                    datetime  \n",
       "0 2019-04-02 19:25:33.000671  \n",
       "1 2019-04-02 19:25:33.000743  \n",
       "2 2019-04-02 19:25:33.000816  \n",
       "3 2019-04-02 19:25:33.000887  \n",
       "4 2019-04-02 19:25:33.000959  "
      ]
     },
     "execution_count": 8,
     "metadata": {},
     "output_type": "execute_result"
    }
   ],
   "source": [
    "lbl.head()"
   ]
  },
  {
   "cell_type": "markdown",
   "metadata": {},
   "source": [
    "## To-do\n",
    "\n",
    "1. Check consecutive record time gap distribution\n",
    "2. Join data based on how close in time the points are"
   ]
  }
 ],
 "metadata": {
  "kernelspec": {
   "display_name": "Python 3",
   "language": "python",
   "name": "python3"
  },
  "language_info": {
   "codemirror_mode": {
    "name": "ipython",
    "version": 3
   },
   "file_extension": ".py",
   "mimetype": "text/x-python",
   "name": "python",
   "nbconvert_exporter": "python",
   "pygments_lexer": "ipython3",
   "version": "3.7.7"
  }
 },
 "nbformat": 4,
 "nbformat_minor": 4
}
