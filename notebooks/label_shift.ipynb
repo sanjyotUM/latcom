{
 "cells": [
  {
   "cell_type": "markdown",
   "metadata": {},
   "source": [
    "## Import"
   ]
  },
  {
   "cell_type": "code",
   "execution_count": 45,
   "metadata": {},
   "outputs": [],
   "source": [
    "from pathlib import Path\n",
    "from datetime import datetime, timedelta\n",
    "\n",
    "import pandas as pd\n",
    "import seaborn as sns\n",
    "import matplotlib.pyplot as plt\n",
    "sns.set_style('darkgrid')\n",
    "%matplotlib widget"
   ]
  },
  {
   "cell_type": "code",
   "execution_count": 2,
   "metadata": {},
   "outputs": [
    {
     "name": "stdout",
     "output_type": "stream",
     "text": [
      "/home/sanjyot/latcom\n"
     ]
    }
   ],
   "source": [
    "cd /home/sanjyot/latcom"
   ]
  },
  {
   "cell_type": "code",
   "execution_count": 3,
   "metadata": {},
   "outputs": [],
   "source": [
    "from preprocess import truncate_filenames, extract_datetime"
   ]
  },
  {
   "cell_type": "code",
   "execution_count": 4,
   "metadata": {},
   "outputs": [],
   "source": [
    "%load_ext autoreload\n",
    "%autoreload 2"
   ]
  },
  {
   "cell_type": "code",
   "execution_count": 5,
   "metadata": {},
   "outputs": [
    {
     "name": "stdout",
     "output_type": "stream",
     "text": [
      "Data dir: /home/sanjyot/latcom/dataset/udacity_simulator/tracks\n",
      "Label file: /home/sanjyot/latcom/dataset/udacity_simulator/tracks/driving_log.csv\n"
     ]
    }
   ],
   "source": [
    "data_dir = Path('.').resolve() / 'dataset' / 'udacity_simulator' / 'tracks'\n",
    "label_path = data_dir / 'driving_log.csv'\n",
    "print(f'Data dir: {data_dir}\\nLabel file: {label_path}')"
   ]
  },
  {
   "cell_type": "code",
   "execution_count": 6,
   "metadata": {},
   "outputs": [],
   "source": [
    "lbl = (\n",
    "    pd.read_csv(\n",
    "        label_path, \n",
    "        names=['center', 'left', 'right', 'steering', 'throttle', 'reverse', 'speed']\n",
    "    )\n",
    "    .pipe(truncate_filenames)\n",
    "    .assign(\n",
    "        datetime = lambda x: x['center'].apply(extract_datetime),\n",
    "        next_datetime = lambda x: x['datetime'].shift(-1)\n",
    "    )\n",
    "    .dropna()\n",
    "    .assign(\n",
    "        time_gap = lambda x: (x['next_datetime'] - x['datetime']).dt.microseconds\n",
    "    )\n",
    ")"
   ]
  },
  {
   "cell_type": "code",
   "execution_count": 37,
   "metadata": {},
   "outputs": [
    {
     "data": {
      "image/png": "[encoded data removed]",
      "text/plain": [
       "<Figure size 720x216 with 2 Axes>"
      ]
     },
     "metadata": {
      "needs_background": "light"
     },
     "output_type": "display_data"
    }
   ],
   "source": [
    "%matplotlib inline\n",
    "fig, ax = plt.subplots(1, 2, figsize=(10, 3))\n",
    "sns.distplot(lbl['time_gap'], kde=False, ax=ax[0])\n",
    "sns.distplot(lbl[lbl['time_gap'] <= 100]['time_gap'], kde=True, ax=ax[1])\n",
    "ax[0].set_title('Time gap distribution (microseconds)')\n",
    "ax[1].set_title('Time gap <= 100 microseconds distribution')\n",
    "plt.show()"
   ]
  },
  {
   "cell_type": "markdown",
   "metadata": {},
   "source": [
    "## Map time shifted labels"
   ]
  },
  {
   "cell_type": "code",
   "execution_count": 22,
   "metadata": {},
   "outputs": [],
   "source": [
    "offset_ms = 40  # Milliseconds\n",
    "\n",
    "offset_us = offset_ms * 1000"
   ]
  },
  {
   "cell_type": "code",
   "execution_count": 23,
   "metadata": {},
   "outputs": [],
   "source": [
    "l = lbl[['center', 'datetime']]"
   ]
  },
  {
   "cell_type": "code",
   "execution_count": 24,
   "metadata": {},
   "outputs": [
    {
     "data": {
      "text/html": [
       "<div>\n",
       "<style scoped>\n",
       "    .dataframe tbody tr th:only-of-type {\n",
       "        vertical-align: middle;\n",
       "    }\n",
       "\n",
       "    .dataframe tbody tr th {\n",
       "        vertical-align: top;\n",
       "    }\n",
       "\n",
       "    .dataframe thead th {\n",
       "        text-align: right;\n",
       "    }\n",
       "</style>\n",
       "<table border=\"1\" class=\"dataframe\">\n",
       "  <thead>\n",
       "    <tr style=\"text-align: right;\">\n",
       "      <th></th>\n",
       "      <th>center</th>\n",
       "      <th>datetime</th>\n",
       "    </tr>\n",
       "  </thead>\n",
       "  <tbody>\n",
       "    <tr>\n",
       "      <th>0</th>\n",
       "      <td>center_2019_04_02_19_25_33_671.jpg</td>\n",
       "      <td>2019-04-02 19:25:33.000671</td>\n",
       "    </tr>\n",
       "    <tr>\n",
       "      <th>1</th>\n",
       "      <td>center_2019_04_02_19_25_33_743.jpg</td>\n",
       "      <td>2019-04-02 19:25:33.000743</td>\n",
       "    </tr>\n",
       "    <tr>\n",
       "      <th>2</th>\n",
       "      <td>center_2019_04_02_19_25_33_816.jpg</td>\n",
       "      <td>2019-04-02 19:25:33.000816</td>\n",
       "    </tr>\n",
       "    <tr>\n",
       "      <th>3</th>\n",
       "      <td>center_2019_04_02_19_25_33_887.jpg</td>\n",
       "      <td>2019-04-02 19:25:33.000887</td>\n",
       "    </tr>\n",
       "    <tr>\n",
       "      <th>4</th>\n",
       "      <td>center_2019_04_02_19_25_33_959.jpg</td>\n",
       "      <td>2019-04-02 19:25:33.000959</td>\n",
       "    </tr>\n",
       "  </tbody>\n",
       "</table>\n",
       "</div>"
      ],
      "text/plain": [
       "                               center                   datetime\n",
       "0  center_2019_04_02_19_25_33_671.jpg 2019-04-02 19:25:33.000671\n",
       "1  center_2019_04_02_19_25_33_743.jpg 2019-04-02 19:25:33.000743\n",
       "2  center_2019_04_02_19_25_33_816.jpg 2019-04-02 19:25:33.000816\n",
       "3  center_2019_04_02_19_25_33_887.jpg 2019-04-02 19:25:33.000887\n",
       "4  center_2019_04_02_19_25_33_959.jpg 2019-04-02 19:25:33.000959"
      ]
     },
     "execution_count": 24,
     "metadata": {},
     "output_type": "execute_result"
    }
   ],
   "source": [
    "l.head()"
   ]
  },
  {
   "cell_type": "code",
   "execution_count": 46,
   "metadata": {},
   "outputs": [
    {
     "data": {
      "application/vnd.jupyter.widget-view+json": {
       "model_id": "326134d1a771416fa1f9a20841eb4160",
       "version_major": 2,
       "version_minor": 0
      },
      "text/plain": [
       "Canvas(toolbar=Toolbar(toolitems=[('Home', 'Reset original view', 'home', 'home'), ('Back', 'Back to previous …"
      ]
     },
     "metadata": {},
     "output_type": "display_data"
    },
    {
     "data": {
      "text/plain": [
       "<seaborn.axisgrid.FacetGrid at 0x7f1fa0da3dd0>"
      ]
     },
     "execution_count": 46,
     "metadata": {},
     "output_type": "execute_result"
    }
   ],
   "source": [
    "%matplotlib widget\n",
    "(\n",
    "    l\n",
    "    .assign(y=1)\n",
    "    .loc[lambda x: (x['datetime'].dt.hour == 18) & (x['datetime'].dt.minute == 10) & (x['datetime'].dt.second <= 2)]\n",
    "    .pipe((sns.relplot, 'data'), x='datetime', y='y', kind='scatter', aspect=3, height=3)\n",
    ")"
   ]
  },
  {
   "cell_type": "code",
   "execution_count": 62,
   "metadata": {},
   "outputs": [],
   "source": [
    "def shift_labels(df, offset, tolerance):\n",
    "    dfcopy = df.copy().rename(columns={'datetime': 'shifted_datetime'})\n",
    "    dfcopy['shifted_datetime'] -= offset\n",
    "    return pd.merge_asof(df, dfcopy, \n",
    "                         left_on='datetime', \n",
    "                         right_on='shifted_datetime',\n",
    "                         tolerance=tolerance, \n",
    "                         direction='nearest')"
   ]
  },
  {
   "cell_type": "code",
   "execution_count": 63,
   "metadata": {},
   "outputs": [],
   "source": [
    "lsmall = l.iloc[:10,:]"
   ]
  },
  {
   "cell_type": "code",
   "execution_count": 67,
   "metadata": {},
   "outputs": [
    {
     "data": {
      "text/html": [
       "<div>\n",
       "<style scoped>\n",
       "    .dataframe tbody tr th:only-of-type {\n",
       "        vertical-align: middle;\n",
       "    }\n",
       "\n",
       "    .dataframe tbody tr th {\n",
       "        vertical-align: top;\n",
       "    }\n",
       "\n",
       "    .dataframe thead th {\n",
       "        text-align: right;\n",
       "    }\n",
       "</style>\n",
       "<table border=\"1\" class=\"dataframe\">\n",
       "  <thead>\n",
       "    <tr style=\"text-align: right;\">\n",
       "      <th></th>\n",
       "      <th>center_x</th>\n",
       "      <th>datetime</th>\n",
       "      <th>center_y</th>\n",
       "      <th>shifted_datetime</th>\n",
       "    </tr>\n",
       "  </thead>\n",
       "  <tbody>\n",
       "    <tr>\n",
       "      <th>0</th>\n",
       "      <td>center_2019_04_02_19_25_33_671.jpg</td>\n",
       "      <td>2019-04-02 19:25:33.000671</td>\n",
       "      <td>NaN</td>\n",
       "      <td>NaT</td>\n",
       "    </tr>\n",
       "    <tr>\n",
       "      <th>1</th>\n",
       "      <td>center_2019_04_02_19_25_33_743.jpg</td>\n",
       "      <td>2019-04-02 19:25:33.000743</td>\n",
       "      <td>NaN</td>\n",
       "      <td>NaT</td>\n",
       "    </tr>\n",
       "    <tr>\n",
       "      <th>2</th>\n",
       "      <td>center_2019_04_02_19_25_33_816.jpg</td>\n",
       "      <td>2019-04-02 19:25:33.000816</td>\n",
       "      <td>NaN</td>\n",
       "      <td>NaT</td>\n",
       "    </tr>\n",
       "    <tr>\n",
       "      <th>3</th>\n",
       "      <td>center_2019_04_02_19_25_33_887.jpg</td>\n",
       "      <td>2019-04-02 19:25:33.000887</td>\n",
       "      <td>NaN</td>\n",
       "      <td>NaT</td>\n",
       "    </tr>\n",
       "    <tr>\n",
       "      <th>4</th>\n",
       "      <td>center_2019_04_02_19_25_33_959.jpg</td>\n",
       "      <td>2019-04-02 19:25:33.000959</td>\n",
       "      <td>NaN</td>\n",
       "      <td>NaT</td>\n",
       "    </tr>\n",
       "    <tr>\n",
       "      <th>5</th>\n",
       "      <td>center_2019_04_02_19_25_34_029.jpg</td>\n",
       "      <td>2019-04-02 19:25:34.000029</td>\n",
       "      <td>NaN</td>\n",
       "      <td>NaT</td>\n",
       "    </tr>\n",
       "    <tr>\n",
       "      <th>6</th>\n",
       "      <td>center_2019_04_02_19_25_34_101.jpg</td>\n",
       "      <td>2019-04-02 19:25:34.000101</td>\n",
       "      <td>NaN</td>\n",
       "      <td>NaT</td>\n",
       "    </tr>\n",
       "    <tr>\n",
       "      <th>7</th>\n",
       "      <td>center_2019_04_02_19_25_34_171.jpg</td>\n",
       "      <td>2019-04-02 19:25:34.000171</td>\n",
       "      <td>NaN</td>\n",
       "      <td>NaT</td>\n",
       "    </tr>\n",
       "    <tr>\n",
       "      <th>8</th>\n",
       "      <td>center_2019_04_02_19_25_34_243.jpg</td>\n",
       "      <td>2019-04-02 19:25:34.000243</td>\n",
       "      <td>NaN</td>\n",
       "      <td>NaT</td>\n",
       "    </tr>\n",
       "    <tr>\n",
       "      <th>9</th>\n",
       "      <td>center_2019_04_02_19_25_34_313.jpg</td>\n",
       "      <td>2019-04-02 19:25:34.000313</td>\n",
       "      <td>NaN</td>\n",
       "      <td>NaT</td>\n",
       "    </tr>\n",
       "  </tbody>\n",
       "</table>\n",
       "</div>"
      ],
      "text/plain": [
       "                             center_x                   datetime center_y  \\\n",
       "0  center_2019_04_02_19_25_33_671.jpg 2019-04-02 19:25:33.000671      NaN   \n",
       "1  center_2019_04_02_19_25_33_743.jpg 2019-04-02 19:25:33.000743      NaN   \n",
       "2  center_2019_04_02_19_25_33_816.jpg 2019-04-02 19:25:33.000816      NaN   \n",
       "3  center_2019_04_02_19_25_33_887.jpg 2019-04-02 19:25:33.000887      NaN   \n",
       "4  center_2019_04_02_19_25_33_959.jpg 2019-04-02 19:25:33.000959      NaN   \n",
       "5  center_2019_04_02_19_25_34_029.jpg 2019-04-02 19:25:34.000029      NaN   \n",
       "6  center_2019_04_02_19_25_34_101.jpg 2019-04-02 19:25:34.000101      NaN   \n",
       "7  center_2019_04_02_19_25_34_171.jpg 2019-04-02 19:25:34.000171      NaN   \n",
       "8  center_2019_04_02_19_25_34_243.jpg 2019-04-02 19:25:34.000243      NaN   \n",
       "9  center_2019_04_02_19_25_34_313.jpg 2019-04-02 19:25:34.000313      NaN   \n",
       "\n",
       "  shifted_datetime  \n",
       "0              NaT  \n",
       "1              NaT  \n",
       "2              NaT  \n",
       "3              NaT  \n",
       "4              NaT  \n",
       "5              NaT  \n",
       "6              NaT  \n",
       "7              NaT  \n",
       "8              NaT  \n",
       "9              NaT  "
      ]
     },
     "execution_count": 67,
     "metadata": {},
     "output_type": "execute_result"
    }
   ],
   "source": [
    "offset = timedelta(milliseconds=60)\n",
    "tolerance = timedelta(microseconds=30)\n",
    "\n",
    "x = shift_labels(lsmall, offset=offset, tolerance=tolerance)\n",
    "x"
   ]
  },
  {
   "cell_type": "code",
   "execution_count": 65,
   "metadata": {},
   "outputs": [
    {
     "data": {
      "text/html": [
       "<div>\n",
       "<style scoped>\n",
       "    .dataframe tbody tr th:only-of-type {\n",
       "        vertical-align: middle;\n",
       "    }\n",
       "\n",
       "    .dataframe tbody tr th {\n",
       "        vertical-align: top;\n",
       "    }\n",
       "\n",
       "    .dataframe thead th {\n",
       "        text-align: right;\n",
       "    }\n",
       "</style>\n",
       "<table border=\"1\" class=\"dataframe\">\n",
       "  <thead>\n",
       "    <tr style=\"text-align: right;\">\n",
       "      <th></th>\n",
       "      <th>center_x</th>\n",
       "      <th>datetime</th>\n",
       "      <th>center_y</th>\n",
       "      <th>shifted_datetime</th>\n",
       "    </tr>\n",
       "  </thead>\n",
       "  <tbody>\n",
       "    <tr>\n",
       "      <th>0</th>\n",
       "      <td>center_2019_04_02_19_25_33_671.jpg</td>\n",
       "      <td>2019-04-02 19:25:33.000671</td>\n",
       "      <td>NaN</td>\n",
       "      <td>NaT</td>\n",
       "    </tr>\n",
       "    <tr>\n",
       "      <th>1</th>\n",
       "      <td>center_2019_04_02_19_25_33_743.jpg</td>\n",
       "      <td>2019-04-02 19:25:33.000743</td>\n",
       "      <td>NaN</td>\n",
       "      <td>NaT</td>\n",
       "    </tr>\n",
       "    <tr>\n",
       "      <th>2</th>\n",
       "      <td>center_2019_04_02_19_25_33_816.jpg</td>\n",
       "      <td>2019-04-02 19:25:33.000816</td>\n",
       "      <td>NaN</td>\n",
       "      <td>NaT</td>\n",
       "    </tr>\n",
       "    <tr>\n",
       "      <th>3</th>\n",
       "      <td>center_2019_04_02_19_25_33_887.jpg</td>\n",
       "      <td>2019-04-02 19:25:33.000887</td>\n",
       "      <td>NaN</td>\n",
       "      <td>NaT</td>\n",
       "    </tr>\n",
       "    <tr>\n",
       "      <th>4</th>\n",
       "      <td>center_2019_04_02_19_25_33_959.jpg</td>\n",
       "      <td>2019-04-02 19:25:33.000959</td>\n",
       "      <td>NaN</td>\n",
       "      <td>NaT</td>\n",
       "    </tr>\n",
       "    <tr>\n",
       "      <th>5</th>\n",
       "      <td>center_2019_04_02_19_25_34_029.jpg</td>\n",
       "      <td>2019-04-02 19:25:34.000029</td>\n",
       "      <td>NaN</td>\n",
       "      <td>NaT</td>\n",
       "    </tr>\n",
       "    <tr>\n",
       "      <th>6</th>\n",
       "      <td>center_2019_04_02_19_25_34_101.jpg</td>\n",
       "      <td>2019-04-02 19:25:34.000101</td>\n",
       "      <td>NaN</td>\n",
       "      <td>NaT</td>\n",
       "    </tr>\n",
       "    <tr>\n",
       "      <th>7</th>\n",
       "      <td>center_2019_04_02_19_25_34_171.jpg</td>\n",
       "      <td>2019-04-02 19:25:34.000171</td>\n",
       "      <td>NaN</td>\n",
       "      <td>NaT</td>\n",
       "    </tr>\n",
       "    <tr>\n",
       "      <th>8</th>\n",
       "      <td>center_2019_04_02_19_25_34_243.jpg</td>\n",
       "      <td>2019-04-02 19:25:34.000243</td>\n",
       "      <td>NaN</td>\n",
       "      <td>NaT</td>\n",
       "    </tr>\n",
       "    <tr>\n",
       "      <th>9</th>\n",
       "      <td>center_2019_04_02_19_25_34_313.jpg</td>\n",
       "      <td>2019-04-02 19:25:34.000313</td>\n",
       "      <td>NaN</td>\n",
       "      <td>NaT</td>\n",
       "    </tr>\n",
       "  </tbody>\n",
       "</table>\n",
       "</div>"
      ],
      "text/plain": [
       "                             center_x                   datetime center_y  \\\n",
       "0  center_2019_04_02_19_25_33_671.jpg 2019-04-02 19:25:33.000671      NaN   \n",
       "1  center_2019_04_02_19_25_33_743.jpg 2019-04-02 19:25:33.000743      NaN   \n",
       "2  center_2019_04_02_19_25_33_816.jpg 2019-04-02 19:25:33.000816      NaN   \n",
       "3  center_2019_04_02_19_25_33_887.jpg 2019-04-02 19:25:33.000887      NaN   \n",
       "4  center_2019_04_02_19_25_33_959.jpg 2019-04-02 19:25:33.000959      NaN   \n",
       "5  center_2019_04_02_19_25_34_029.jpg 2019-04-02 19:25:34.000029      NaN   \n",
       "6  center_2019_04_02_19_25_34_101.jpg 2019-04-02 19:25:34.000101      NaN   \n",
       "7  center_2019_04_02_19_25_34_171.jpg 2019-04-02 19:25:34.000171      NaN   \n",
       "8  center_2019_04_02_19_25_34_243.jpg 2019-04-02 19:25:34.000243      NaN   \n",
       "9  center_2019_04_02_19_25_34_313.jpg 2019-04-02 19:25:34.000313      NaN   \n",
       "\n",
       "  shifted_datetime  \n",
       "0              NaT  \n",
       "1              NaT  \n",
       "2              NaT  \n",
       "3              NaT  \n",
       "4              NaT  \n",
       "5              NaT  \n",
       "6              NaT  \n",
       "7              NaT  \n",
       "8              NaT  \n",
       "9              NaT  "
      ]
     },
     "execution_count": 65,
     "metadata": {},
     "output_type": "execute_result"
    }
   ],
   "source": [
    "x"
   ]
  }
 ],
 "metadata": {
  "kernelspec": {
   "display_name": "Python 3",
   "language": "python",
   "name": "python3"
  },
  "language_info": {
   "codemirror_mode": {
    "name": "ipython",
    "version": 3
   },
   "file_extension": ".py",
   "mimetype": "text/x-python",
   "name": "python",
   "nbconvert_exporter": "python",
   "pygments_lexer": "ipython3",
   "version": "3.7.7"
  }
 },
 "nbformat": 4,
 "nbformat_minor": 4
}
